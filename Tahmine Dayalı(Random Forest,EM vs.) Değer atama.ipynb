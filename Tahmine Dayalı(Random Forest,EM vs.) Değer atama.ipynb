{
 "cells": [
  {
   "cell_type": "markdown",
   "id": "9a05a185",
   "metadata": {},
   "source": [
    "# TAHMİNE DAYALI(RANDOM FOREST) DEĞER ATAMA YÖNTEMLERİ(HEPSİ MAKİNE ÖĞRENMESİ ALGORİTMALARINA GÖRE DEĞER DOLDURMADIR)"
   ]
  },
  {
   "cell_type": "code",
   "execution_count": 21,
   "id": "c66655b5",
   "metadata": {},
   "outputs": [],
   "source": [
    "import seaborn as sns\n",
    "import missingno as msno\n",
    "import numpy as np\n",
    "import pandas as pd\n",
    "df=sns.load_dataset(\"titanic\")\n",
    "df=df.select_dtypes(include=[\"float64\",\"int64\"])"
   ]
  },
  {
   "cell_type": "code",
   "execution_count": 10,
   "id": "6fae459d",
   "metadata": {},
   "outputs": [
    {
     "data": {
      "text/html": [
       "<div>\n",
       "<style scoped>\n",
       "    .dataframe tbody tr th:only-of-type {\n",
       "        vertical-align: middle;\n",
       "    }\n",
       "\n",
       "    .dataframe tbody tr th {\n",
       "        vertical-align: top;\n",
       "    }\n",
       "\n",
       "    .dataframe thead th {\n",
       "        text-align: right;\n",
       "    }\n",
       "</style>\n",
       "<table border=\"1\" class=\"dataframe\">\n",
       "  <thead>\n",
       "    <tr style=\"text-align: right;\">\n",
       "      <th></th>\n",
       "      <th>survived</th>\n",
       "      <th>pclass</th>\n",
       "      <th>age</th>\n",
       "      <th>sibsp</th>\n",
       "      <th>parch</th>\n",
       "      <th>fare</th>\n",
       "    </tr>\n",
       "  </thead>\n",
       "  <tbody>\n",
       "    <tr>\n",
       "      <th>0</th>\n",
       "      <td>0</td>\n",
       "      <td>3</td>\n",
       "      <td>22.0</td>\n",
       "      <td>1</td>\n",
       "      <td>0</td>\n",
       "      <td>7.2500</td>\n",
       "    </tr>\n",
       "    <tr>\n",
       "      <th>1</th>\n",
       "      <td>1</td>\n",
       "      <td>1</td>\n",
       "      <td>38.0</td>\n",
       "      <td>1</td>\n",
       "      <td>0</td>\n",
       "      <td>71.2833</td>\n",
       "    </tr>\n",
       "    <tr>\n",
       "      <th>2</th>\n",
       "      <td>1</td>\n",
       "      <td>3</td>\n",
       "      <td>26.0</td>\n",
       "      <td>0</td>\n",
       "      <td>0</td>\n",
       "      <td>7.9250</td>\n",
       "    </tr>\n",
       "    <tr>\n",
       "      <th>3</th>\n",
       "      <td>1</td>\n",
       "      <td>1</td>\n",
       "      <td>35.0</td>\n",
       "      <td>1</td>\n",
       "      <td>0</td>\n",
       "      <td>53.1000</td>\n",
       "    </tr>\n",
       "    <tr>\n",
       "      <th>4</th>\n",
       "      <td>0</td>\n",
       "      <td>3</td>\n",
       "      <td>35.0</td>\n",
       "      <td>0</td>\n",
       "      <td>0</td>\n",
       "      <td>8.0500</td>\n",
       "    </tr>\n",
       "  </tbody>\n",
       "</table>\n",
       "</div>"
      ],
      "text/plain": [
       "   survived  pclass   age  sibsp  parch     fare\n",
       "0         0       3  22.0      1      0   7.2500\n",
       "1         1       1  38.0      1      0  71.2833\n",
       "2         1       3  26.0      0      0   7.9250\n",
       "3         1       1  35.0      1      0  53.1000\n",
       "4         0       3  35.0      0      0   8.0500"
      ]
     },
     "execution_count": 10,
     "metadata": {},
     "output_type": "execute_result"
    }
   ],
   "source": [
    "df.head()"
   ]
  },
  {
   "cell_type": "code",
   "execution_count": 11,
   "id": "be94a4cd",
   "metadata": {},
   "outputs": [
    {
     "data": {
      "text/plain": [
       "survived      0\n",
       "pclass        0\n",
       "age         177\n",
       "sibsp         0\n",
       "parch         0\n",
       "fare          0\n",
       "dtype: int64"
      ]
     },
     "execution_count": 11,
     "metadata": {},
     "output_type": "execute_result"
    }
   ],
   "source": [
    "df.isnull().sum()"
   ]
  },
  {
   "cell_type": "code",
   "execution_count": 12,
   "id": "396d82c0",
   "metadata": {},
   "outputs": [
    {
     "name": "stdout",
     "output_type": "stream",
     "text": [
      "Requirement already satisfied: ycimpute in c:\\users\\fatih emre\\anaconda3\\lib\\site-packages (0.2)\n",
      "Requirement already satisfied: numpy>=1.10 in c:\\users\\fatih emre\\anaconda3\\lib\\site-packages (from ycimpute) (1.22.4)\n",
      "Requirement already satisfied: torch>=1.1.0 in c:\\users\\fatih emre\\anaconda3\\lib\\site-packages (from ycimpute) (2.1.2)\n",
      "Requirement already satisfied: scipy in c:\\users\\fatih emre\\anaconda3\\lib\\site-packages (from ycimpute) (1.7.3)\n",
      "Requirement already satisfied: six in c:\\users\\fatih emre\\anaconda3\\lib\\site-packages (from ycimpute) (1.16.0)\n",
      "Requirement already satisfied: scikit-learn>=0.17.1 in c:\\users\\fatih emre\\anaconda3\\lib\\site-packages (from ycimpute) (1.0.2)\n",
      "Requirement already satisfied: threadpoolctl>=2.0.0 in c:\\users\\fatih emre\\anaconda3\\lib\\site-packages (from scikit-learn>=0.17.1->ycimpute) (2.2.0)\n",
      "Requirement already satisfied: joblib>=0.11 in c:\\users\\fatih emre\\anaconda3\\lib\\site-packages (from scikit-learn>=0.17.1->ycimpute) (1.1.0)\n",
      "Requirement already satisfied: typing-extensions in c:\\users\\fatih emre\\anaconda3\\lib\\site-packages (from torch>=1.1.0->ycimpute) (4.1.1)\n",
      "Requirement already satisfied: networkx in c:\\users\\fatih emre\\anaconda3\\lib\\site-packages (from torch>=1.1.0->ycimpute) (2.7.1)\n",
      "Requirement already satisfied: filelock in c:\\users\\fatih emre\\anaconda3\\lib\\site-packages (from torch>=1.1.0->ycimpute) (3.6.0)\n",
      "Requirement already satisfied: sympy in c:\\users\\fatih emre\\anaconda3\\lib\\site-packages (from torch>=1.1.0->ycimpute) (1.10.1)\n",
      "Requirement already satisfied: fsspec in c:\\users\\fatih emre\\anaconda3\\lib\\site-packages (from torch>=1.1.0->ycimpute) (2022.2.0)\n",
      "Requirement already satisfied: jinja2 in c:\\users\\fatih emre\\anaconda3\\lib\\site-packages (from torch>=1.1.0->ycimpute) (2.11.3)\n",
      "Requirement already satisfied: MarkupSafe>=0.23 in c:\\users\\fatih emre\\anaconda3\\lib\\site-packages (from jinja2->torch>=1.1.0->ycimpute) (2.0.1)\n",
      "Requirement already satisfied: mpmath>=0.19 in c:\\users\\fatih emre\\anaconda3\\lib\\site-packages (from sympy->torch>=1.1.0->ycimpute) (1.2.1)\n"
     ]
    }
   ],
   "source": [
    "!pip install ycimpute"
   ]
  },
  {
   "cell_type": "markdown",
   "id": "42426e45",
   "metadata": {},
   "source": [
    "# KNN(K EN YAKIN KOMŞULUK) YÖNTEMİ İLE DOLDURMA"
   ]
  },
  {
   "cell_type": "code",
   "execution_count": 13,
   "id": "fc2d8741",
   "metadata": {},
   "outputs": [],
   "source": [
    "from ycimpute.imputer import knnimput"
   ]
  },
  {
   "cell_type": "code",
   "execution_count": 14,
   "id": "d9208bb0",
   "metadata": {},
   "outputs": [],
   "source": [
    "var_names=list(df)"
   ]
  },
  {
   "cell_type": "code",
   "execution_count": 15,
   "id": "b81bc89f",
   "metadata": {},
   "outputs": [],
   "source": [
    "n_df=np.array(df)"
   ]
  },
  {
   "cell_type": "code",
   "execution_count": 17,
   "id": "7b0b8043",
   "metadata": {},
   "outputs": [
    {
     "data": {
      "text/plain": [
       "array([[ 0.    ,  3.    , 22.    ,  1.    ,  0.    ,  7.25  ],\n",
       "       [ 1.    ,  1.    , 38.    ,  1.    ,  0.    , 71.2833],\n",
       "       [ 1.    ,  3.    , 26.    ,  0.    ,  0.    ,  7.925 ],\n",
       "       [ 1.    ,  1.    , 35.    ,  1.    ,  0.    , 53.1   ],\n",
       "       [ 0.    ,  3.    , 35.    ,  0.    ,  0.    ,  8.05  ],\n",
       "       [ 0.    ,  3.    ,     nan,  0.    ,  0.    ,  8.4583],\n",
       "       [ 0.    ,  1.    , 54.    ,  0.    ,  0.    , 51.8625],\n",
       "       [ 0.    ,  3.    ,  2.    ,  3.    ,  1.    , 21.075 ],\n",
       "       [ 1.    ,  3.    , 27.    ,  0.    ,  2.    , 11.1333],\n",
       "       [ 1.    ,  2.    , 14.    ,  1.    ,  0.    , 30.0708]])"
      ]
     },
     "execution_count": 17,
     "metadata": {},
     "output_type": "execute_result"
    }
   ],
   "source": [
    "n_df[0:10]"
   ]
  },
  {
   "cell_type": "code",
   "execution_count": 19,
   "id": "e8144b80",
   "metadata": {},
   "outputs": [
    {
     "data": {
      "text/plain": [
       "(891, 6)"
      ]
     },
     "execution_count": 19,
     "metadata": {},
     "output_type": "execute_result"
    }
   ],
   "source": [
    "n_df.shape"
   ]
  },
  {
   "cell_type": "code",
   "execution_count": 20,
   "id": "48976ce0",
   "metadata": {},
   "outputs": [
    {
     "name": "stdout",
     "output_type": "stream",
     "text": [
      "Imputing row 1/891 with 0 missing, elapsed time: 0.115\n",
      "Imputing row 101/891 with 0 missing, elapsed time: 0.118\n",
      "Imputing row 201/891 with 0 missing, elapsed time: 0.119\n",
      "Imputing row 301/891 with 1 missing, elapsed time: 0.120\n",
      "Imputing row 401/891 with 0 missing, elapsed time: 0.121\n",
      "Imputing row 501/891 with 0 missing, elapsed time: 0.122\n",
      "Imputing row 601/891 with 0 missing, elapsed time: 0.123\n",
      "Imputing row 701/891 with 0 missing, elapsed time: 0.124\n",
      "Imputing row 801/891 with 0 missing, elapsed time: 0.125\n"
     ]
    }
   ],
   "source": [
    "#k burada komşuluk sayısını ifade eder\n",
    "dff=knnimput.KNN(k=4).complete(n_df)"
   ]
  },
  {
   "cell_type": "code",
   "execution_count": 22,
   "id": "47dbc55e",
   "metadata": {},
   "outputs": [
    {
     "data": {
      "text/plain": [
       "numpy.ndarray"
      ]
     },
     "execution_count": 22,
     "metadata": {},
     "output_type": "execute_result"
    }
   ],
   "source": [
    "type(dff)"
   ]
  },
  {
   "cell_type": "code",
   "execution_count": 23,
   "id": "78400ded",
   "metadata": {},
   "outputs": [],
   "source": [
    "dff=pd.DataFrame(dff,columns = var_names)"
   ]
  },
  {
   "cell_type": "code",
   "execution_count": 25,
   "id": "d26f92de",
   "metadata": {},
   "outputs": [
    {
     "data": {
      "text/plain": [
       "pandas.core.frame.DataFrame"
      ]
     },
     "execution_count": 25,
     "metadata": {},
     "output_type": "execute_result"
    }
   ],
   "source": [
    "type(dff)"
   ]
  },
  {
   "cell_type": "code",
   "execution_count": 27,
   "id": "63e7cad3",
   "metadata": {},
   "outputs": [
    {
     "data": {
      "text/plain": [
       "survived    0\n",
       "pclass      0\n",
       "age         0\n",
       "sibsp       0\n",
       "parch       0\n",
       "fare        0\n",
       "dtype: int64"
      ]
     },
     "execution_count": 27,
     "metadata": {},
     "output_type": "execute_result"
    }
   ],
   "source": [
    "#boşlukların bu şekilde doldurulduğunu görüyoruz.\n",
    "dff.isnull().sum()"
   ]
  },
  {
   "cell_type": "code",
   "execution_count": null,
   "id": "3295c61c",
   "metadata": {},
   "outputs": [],
   "source": []
  },
  {
   "cell_type": "markdown",
   "id": "722d0d00",
   "metadata": {},
   "source": [
    "# BİR DE RANDOM FOREST İLE DOLDURMA YAPALIM"
   ]
  },
  {
   "cell_type": "code",
   "execution_count": 44,
   "id": "c4c5d7e5",
   "metadata": {},
   "outputs": [],
   "source": [
    "import seaborn as sns\n",
    "import missingno as msno\n",
    "import numpy as np\n",
    "import pandas as pd\n",
    "df=sns.load_dataset(\"titanic\")\n",
    "df=df.select_dtypes(include=[\"float64\",\"int64\"])"
   ]
  },
  {
   "cell_type": "code",
   "execution_count": 45,
   "id": "bb9a0cb9",
   "metadata": {},
   "outputs": [
    {
     "data": {
      "text/plain": [
       "survived      0\n",
       "pclass        0\n",
       "age         177\n",
       "sibsp         0\n",
       "parch         0\n",
       "fare          0\n",
       "dtype: int64"
      ]
     },
     "execution_count": 45,
     "metadata": {},
     "output_type": "execute_result"
    }
   ],
   "source": [
    "df.isnull().sum()"
   ]
  },
  {
   "cell_type": "code",
   "execution_count": 46,
   "id": "fa66eb16",
   "metadata": {},
   "outputs": [],
   "source": [
    "var_names=list(df)"
   ]
  },
  {
   "cell_type": "code",
   "execution_count": 47,
   "id": "7a3c2001",
   "metadata": {},
   "outputs": [],
   "source": [
    "n_df=np.array(df)"
   ]
  },
  {
   "cell_type": "code",
   "execution_count": 48,
   "id": "6b034c6d",
   "metadata": {},
   "outputs": [
    {
     "ename": "AttributeError",
     "evalue": "module 'ycimpute.imputer.iterforest' has no attribute 'IterImput'",
     "output_type": "error",
     "traceback": [
      "\u001b[1;31m---------------------------------------------------------------------------\u001b[0m",
      "\u001b[1;31mAttributeError\u001b[0m                            Traceback (most recent call last)",
      "Input \u001b[1;32mIn [48]\u001b[0m, in \u001b[0;36m<cell line: 2>\u001b[1;34m()\u001b[0m\n\u001b[0;32m      1\u001b[0m \u001b[38;5;28;01mfrom\u001b[39;00m \u001b[38;5;21;01mycimpute\u001b[39;00m\u001b[38;5;21;01m.\u001b[39;00m\u001b[38;5;21;01mimputer\u001b[39;00m \u001b[38;5;28;01mimport\u001b[39;00m iterforest\n\u001b[1;32m----> 2\u001b[0m dff\u001b[38;5;241m=\u001b[39m\u001b[43miterforest\u001b[49m\u001b[38;5;241;43m.\u001b[39;49m\u001b[43mIterImput\u001b[49m()\u001b[38;5;241m.\u001b[39mcomplete(n_df)\n",
      "\u001b[1;31mAttributeError\u001b[0m: module 'ycimpute.imputer.iterforest' has no attribute 'IterImput'"
     ]
    }
   ],
   "source": [
    "from ycimpute.imputer import iterforest\n",
    "dff=iterforest.IterImput().complete(n_df)"
   ]
  },
  {
   "cell_type": "code",
   "execution_count": 49,
   "id": "2fb38a4e",
   "metadata": {},
   "outputs": [],
   "source": [
    "dff=pd.DataFrame(dff,columns = var_names)"
   ]
  },
  {
   "cell_type": "code",
   "execution_count": 50,
   "id": "748939a2",
   "metadata": {},
   "outputs": [
    {
     "data": {
      "text/plain": [
       "survived    0\n",
       "pclass      0\n",
       "age         0\n",
       "sibsp       0\n",
       "parch       0\n",
       "fare        0\n",
       "dtype: int64"
      ]
     },
     "execution_count": 50,
     "metadata": {},
     "output_type": "execute_result"
    }
   ],
   "source": [
    "dff.isnull().sum()"
   ]
  },
  {
   "cell_type": "code",
   "execution_count": null,
   "id": "b2645dfa",
   "metadata": {},
   "outputs": [],
   "source": []
  },
  {
   "cell_type": "markdown",
   "id": "0a714f16",
   "metadata": {},
   "source": [
    "# EM ALGORİTMASI İLE BOŞLUKLARI DOLDURMA"
   ]
  },
  {
   "cell_type": "code",
   "execution_count": 51,
   "id": "4699593a",
   "metadata": {},
   "outputs": [],
   "source": [
    "import seaborn as sns\n",
    "import missingno as msno\n",
    "import numpy as np\n",
    "import pandas as pd\n",
    "df=sns.load_dataset(\"titanic\")\n",
    "df=df.select_dtypes(include=[\"float64\",\"int64\"])"
   ]
  },
  {
   "cell_type": "code",
   "execution_count": 52,
   "id": "380fbb53",
   "metadata": {},
   "outputs": [],
   "source": [
    "from ycimpute.imputer import EM\n",
    "var_names=list(df)"
   ]
  },
  {
   "cell_type": "code",
   "execution_count": 53,
   "id": "eff7703e",
   "metadata": {},
   "outputs": [],
   "source": [
    "n_df=np.array(df)"
   ]
  },
  {
   "cell_type": "code",
   "execution_count": 54,
   "id": "61fb1a2e",
   "metadata": {},
   "outputs": [],
   "source": [
    "dff=EM().complete(n_df)"
   ]
  },
  {
   "cell_type": "code",
   "execution_count": 60,
   "id": "61c5baa0",
   "metadata": {},
   "outputs": [],
   "source": [
    "dff=pd.DataFrame(dff, columns = var_names)"
   ]
  },
  {
   "cell_type": "code",
   "execution_count": 64,
   "id": "aac5530f",
   "metadata": {},
   "outputs": [
    {
     "data": {
      "text/plain": [
       "survived    0.0\n",
       "pclass      0.0\n",
       "age         0.0\n",
       "sibsp       0.0\n",
       "parch       0.0\n",
       "fare        0.0\n",
       "dtype: float64"
      ]
     },
     "execution_count": 64,
     "metadata": {},
     "output_type": "execute_result"
    }
   ],
   "source": [
    "dff.isnull().sum()"
   ]
  },
  {
   "cell_type": "code",
   "execution_count": null,
   "id": "3e23cb19",
   "metadata": {},
   "outputs": [],
   "source": []
  }
 ],
 "metadata": {
  "kernelspec": {
   "display_name": "Python 3 (ipykernel)",
   "language": "python",
   "name": "python3"
  },
  "language_info": {
   "codemirror_mode": {
    "name": "ipython",
    "version": 3
   },
   "file_extension": ".py",
   "mimetype": "text/x-python",
   "name": "python",
   "nbconvert_exporter": "python",
   "pygments_lexer": "ipython3",
   "version": "3.9.12"
  }
 },
 "nbformat": 4,
 "nbformat_minor": 5
}
